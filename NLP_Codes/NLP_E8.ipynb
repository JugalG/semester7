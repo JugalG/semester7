{
 "cells": [
  {
   "cell_type": "code",
   "execution_count": 5,
   "id": "69cc8f9a",
   "metadata": {},
   "outputs": [
    {
     "name": "stdout",
     "output_type": "stream",
     "text": [
      "\u001b[38;5;2m✔ Download and installation successful\u001b[0m\n",
      "You can now load the package via spacy.load('en_core_web_lg')\n"
     ]
    }
   ],
   "source": [
    "import spacy\n",
    "import pandas as pd\n",
    "\n",
    "# import en_core_web_sm\n",
    "import spacy.cli\n",
    "spacy.cli.download(\"en_core_web_lg\")"
   ]
  },
  {
   "cell_type": "code",
   "execution_count": 6,
   "id": "8ee6d1f0",
   "metadata": {},
   "outputs": [],
   "source": [
    "nlp = spacy.load('en_core_web_lg')"
   ]
  },
  {
   "cell_type": "code",
   "execution_count": 7,
   "id": "744f97eb",
   "metadata": {},
   "outputs": [],
   "source": [
    "data = pd.read_csv('cleaned_reviewss.csv')\n",
    "data = data.head(10)"
   ]
  },
  {
   "cell_type": "code",
   "execution_count": 8,
   "id": "5320e914",
   "metadata": {},
   "outputs": [
    {
     "name": "stdout",
     "output_type": "stream",
     "text": [
      "text 1: Been to this place times Prakash is always very sweet and accommodating Plus always ask Vaibhav to make your shakes they are perfect\n",
      "Review 1 NER Results:\n",
      "Entity: Prakash, Label: PERSON\n",
      "Entity: Vaibhav, Label: PERSON\n",
      "\n",
      "\n",
      "text 2: I recently visited Oliver Brown on a weekend for a cup of iced coffee and I was thoroughly impressed The ambience was inviting the seating comfortable and the service topnotch I had the pleasure of trying their iced coffee and dark hot chocolate both of which were absolutely delicious Its an excellent place overall and Im already looking forward to my next visit\n",
      "Review 2 NER Results:\n",
      "Entity: Oliver Brown, Label: PERSON\n",
      "Entity: a weekend, Label: DATE\n",
      "\n",
      "\n",
      "text 3: Very watery ans thin shake\n",
      "Review 3 NER Results:\n",
      "\n",
      "\n",
      "text 4: it was not cheese burst pizza only cheeze was on the top not happy with the pizza sent made today\n",
      "Review 4 NER Results:\n",
      "Entity: today, Label: DATE\n",
      "\n",
      "\n",
      "text 5: Yammitest burger is best I love this BergerAnd fry is also missing Love you\n",
      "Review 5 NER Results:\n",
      "Entity: Yammitest, Label: GPE\n",
      "Entity: BergerAnd, Label: ORG\n",
      "Entity: Love, Label: WORK_OF_ART\n",
      "\n",
      "\n",
      "text 6: food was not spicy which I was told to restorant on call and instructions\n",
      "Review 6 NER Results:\n",
      "\n",
      "\n",
      "text 7: Punjabi Thali is great The taste was good and paratha was the star The reason simple being provided instead of maida made Naan So overall mindful serving to customer and liked it\n",
      "Review 7 NER Results:\n",
      "Entity: Punjabi Thali, Label: PERSON\n",
      "Entity: Naan, Label: PERSON\n",
      "\n",
      "\n",
      "text 8: The owner didnt let us sit in the AC though it was not at all reserved We already had booked our table priorly then also he didnt give us the AC table to sit He said that you should call us and book the AC table but no one ever picks the call at all\n",
      "Review 8 NER Results:\n",
      "\n",
      "\n",
      "text 9: Both coffees were spilled and the box of pasta was opened up with coffee in the pastaWe need the money back since the items were completely inediblei wish i had negative stars\n",
      "Review 9 NER Results:\n",
      "\n",
      "\n",
      "text 10: washroom was not available had to use malls security guards washroom\n",
      "Review 10 NER Results:\n",
      "\n",
      "\n"
     ]
    }
   ],
   "source": [
    "\n",
    "def perform_ner(text):\n",
    "    doc = nlp(text)\n",
    "    entities = [(ent.text, ent.label_) for ent in doc.ents]\n",
    "    return entities\n",
    "\n",
    "# Iterate through the dataset and perform NER for each synopsis\n",
    "for index, row in data.iterrows():\n",
    "    review = row['Review']\n",
    "    ner_results = perform_ner(review)\n",
    "    \n",
    "    # Print NER results for the current synopsis\n",
    "    print(f\"text {index + 1}: {review}\")\n",
    "    print(f\"Review {index + 1} NER Results:\")\n",
    "    for entity, label in ner_results:\n",
    "        print(f\"Entity: {entity}, Label: {label}\")\n",
    "    print(\"\\n\")"
   ]
  },
  {
   "cell_type": "code",
   "execution_count": null,
   "id": "503fb2f8",
   "metadata": {},
   "outputs": [],
   "source": []
  }
 ],
 "metadata": {
  "kernelspec": {
   "display_name": "Python 3 (ipykernel)",
   "language": "python",
   "name": "python3"
  },
  "language_info": {
   "codemirror_mode": {
    "name": "ipython",
    "version": 3
   },
   "file_extension": ".py",
   "mimetype": "text/x-python",
   "name": "python",
   "nbconvert_exporter": "python",
   "pygments_lexer": "ipython3",
   "version": "3.9.12"
  }
 },
 "nbformat": 4,
 "nbformat_minor": 5
}
