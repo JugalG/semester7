{
 "cells": [
  {
   "cell_type": "code",
   "execution_count": 1,
   "id": "0a98292a",
   "metadata": {},
   "outputs": [],
   "source": [
    "import pandas as pd\n",
    "import numpy as np\n",
    "import matplotlib.pyplot as plt\n",
    "import seaborn as sns\n",
    "import itertools\n",
    "import pandas as pd\n",
    "import numpy as np\n",
    "import matplotlib.pyplot as plt\n",
    "\n",
    "from sklearn.feature_extraction.text import TfidfVectorizer\n",
    "from sklearn.metrics.pairwise import linear_kernel"
   ]
  },
  {
   "cell_type": "code",
   "execution_count": 2,
   "id": "f4816f50",
   "metadata": {},
   "outputs": [
    {
     "data": {
      "text/html": [
       "<div>\n",
       "<style scoped>\n",
       "    .dataframe tbody tr th:only-of-type {\n",
       "        vertical-align: middle;\n",
       "    }\n",
       "\n",
       "    .dataframe tbody tr th {\n",
       "        vertical-align: top;\n",
       "    }\n",
       "\n",
       "    .dataframe thead th {\n",
       "        text-align: right;\n",
       "    }\n",
       "</style>\n",
       "<table border=\"1\" class=\"dataframe\">\n",
       "  <thead>\n",
       "    <tr style=\"text-align: right;\">\n",
       "      <th></th>\n",
       "      <th>Index</th>\n",
       "      <th>Name</th>\n",
       "      <th>Overall_Rating</th>\n",
       "      <th>Cuisine</th>\n",
       "      <th>Rate for two</th>\n",
       "      <th>City</th>\n",
       "      <th>Review</th>\n",
       "    </tr>\n",
       "  </thead>\n",
       "  <tbody>\n",
       "    <tr>\n",
       "      <th>0</th>\n",
       "      <td>0</td>\n",
       "      <td>Oliver Brown</td>\n",
       "      <td>3.9</td>\n",
       "      <td>Cafe, Coffee, Shake, Juices, Beverages, Waffle...</td>\n",
       "      <td>500</td>\n",
       "      <td>ahmedabad</td>\n",
       "      <td>Been to this place times Prakash is always ver...</td>\n",
       "    </tr>\n",
       "    <tr>\n",
       "      <th>1</th>\n",
       "      <td>1</td>\n",
       "      <td>Oliver Brown</td>\n",
       "      <td>3.9</td>\n",
       "      <td>Cafe, Coffee, Shake, Juices, Beverages, Waffle...</td>\n",
       "      <td>500</td>\n",
       "      <td>ahmedabad</td>\n",
       "      <td>I recently visited Oliver Brown on a weekend f...</td>\n",
       "    </tr>\n",
       "    <tr>\n",
       "      <th>2</th>\n",
       "      <td>2</td>\n",
       "      <td>Crush Coffee</td>\n",
       "      <td>3</td>\n",
       "      <td>Cafe, Shake, Beverages, Desserts</td>\n",
       "      <td>600</td>\n",
       "      <td>ahmedabad</td>\n",
       "      <td>Very watery ans thin shake</td>\n",
       "    </tr>\n",
       "    <tr>\n",
       "      <th>3</th>\n",
       "      <td>3</td>\n",
       "      <td>The Mohalla</td>\n",
       "      <td>3.8</td>\n",
       "      <td>Cafe</td>\n",
       "      <td>550</td>\n",
       "      <td>ahmedabad</td>\n",
       "      <td>it was not cheese burst pizza only cheeze was ...</td>\n",
       "    </tr>\n",
       "    <tr>\n",
       "      <th>4</th>\n",
       "      <td>4</td>\n",
       "      <td>The Mohalla</td>\n",
       "      <td>3.8</td>\n",
       "      <td>Cafe</td>\n",
       "      <td>550</td>\n",
       "      <td>ahmedabad</td>\n",
       "      <td>Yammitest burger is best I love this BergerAnd...</td>\n",
       "    </tr>\n",
       "    <tr>\n",
       "      <th>5</th>\n",
       "      <td>5</td>\n",
       "      <td>The Shaka Cafe</td>\n",
       "      <td>4.3</td>\n",
       "      <td>North Indian, Pizza, Asian, Chinese, Cafe, Des...</td>\n",
       "      <td>1,200</td>\n",
       "      <td>ahmedabad</td>\n",
       "      <td>food was not spicy which I was told to restora...</td>\n",
       "    </tr>\n",
       "    <tr>\n",
       "      <th>6</th>\n",
       "      <td>6</td>\n",
       "      <td>The Shaka Cafe</td>\n",
       "      <td>4.3</td>\n",
       "      <td>North Indian, Pizza, Asian, Chinese, Cafe, Des...</td>\n",
       "      <td>1,200</td>\n",
       "      <td>ahmedabad</td>\n",
       "      <td>Punjabi Thali is great The taste was good and ...</td>\n",
       "    </tr>\n",
       "    <tr>\n",
       "      <th>7</th>\n",
       "      <td>7</td>\n",
       "      <td>Hobnob Bistro</td>\n",
       "      <td>3.7</td>\n",
       "      <td>North Indian, Cafe, Italian, Chinese, Desserts...</td>\n",
       "      <td>1,000</td>\n",
       "      <td>ahmedabad</td>\n",
       "      <td>The owner didnt let us sit in the AC though it...</td>\n",
       "    </tr>\n",
       "    <tr>\n",
       "      <th>8</th>\n",
       "      <td>8</td>\n",
       "      <td>Mleko</td>\n",
       "      <td>4.8</td>\n",
       "      <td>Cafe, Coffee, Bakery, Fast Food, Continental, ...</td>\n",
       "      <td>800</td>\n",
       "      <td>ahmedabad</td>\n",
       "      <td>Both coffees were spilled and the box of pasta...</td>\n",
       "    </tr>\n",
       "    <tr>\n",
       "      <th>9</th>\n",
       "      <td>9</td>\n",
       "      <td>Kaffee - Mast Hai</td>\n",
       "      <td>4.1</td>\n",
       "      <td>Cafe, Pasta, Burger, Sandwich, Pizza, Wraps, D...</td>\n",
       "      <td>1,200</td>\n",
       "      <td>ahmedabad</td>\n",
       "      <td>washroom was not available had to use malls se...</td>\n",
       "    </tr>\n",
       "  </tbody>\n",
       "</table>\n",
       "</div>"
      ],
      "text/plain": [
       "   Index               Name Overall_Rating  \\\n",
       "0      0       Oliver Brown            3.9   \n",
       "1      1       Oliver Brown            3.9   \n",
       "2      2       Crush Coffee              3   \n",
       "3      3        The Mohalla            3.8   \n",
       "4      4        The Mohalla            3.8   \n",
       "5      5     The Shaka Cafe            4.3   \n",
       "6      6     The Shaka Cafe            4.3   \n",
       "7      7      Hobnob Bistro            3.7   \n",
       "8      8              Mleko            4.8   \n",
       "9      9  Kaffee - Mast Hai            4.1   \n",
       "\n",
       "                                             Cuisine Rate for two       City  \\\n",
       "0  Cafe, Coffee, Shake, Juices, Beverages, Waffle...          500  ahmedabad   \n",
       "1  Cafe, Coffee, Shake, Juices, Beverages, Waffle...          500  ahmedabad   \n",
       "2                   Cafe, Shake, Beverages, Desserts          600  ahmedabad   \n",
       "3                                               Cafe          550  ahmedabad   \n",
       "4                                               Cafe          550  ahmedabad   \n",
       "5  North Indian, Pizza, Asian, Chinese, Cafe, Des...        1,200  ahmedabad   \n",
       "6  North Indian, Pizza, Asian, Chinese, Cafe, Des...        1,200  ahmedabad   \n",
       "7  North Indian, Cafe, Italian, Chinese, Desserts...        1,000  ahmedabad   \n",
       "8  Cafe, Coffee, Bakery, Fast Food, Continental, ...          800  ahmedabad   \n",
       "9  Cafe, Pasta, Burger, Sandwich, Pizza, Wraps, D...        1,200  ahmedabad   \n",
       "\n",
       "                                              Review  \n",
       "0  Been to this place times Prakash is always ver...  \n",
       "1  I recently visited Oliver Brown on a weekend f...  \n",
       "2                         Very watery ans thin shake  \n",
       "3  it was not cheese burst pizza only cheeze was ...  \n",
       "4  Yammitest burger is best I love this BergerAnd...  \n",
       "5  food was not spicy which I was told to restora...  \n",
       "6  Punjabi Thali is great The taste was good and ...  \n",
       "7  The owner didnt let us sit in the AC though it...  \n",
       "8  Both coffees were spilled and the box of pasta...  \n",
       "9  washroom was not available had to use malls se...  "
      ]
     },
     "execution_count": 2,
     "metadata": {},
     "output_type": "execute_result"
    }
   ],
   "source": [
    "df = pd.read_csv(\"cleaned_reviewss.csv\")\n",
    "df.head(10)"
   ]
  },
  {
   "cell_type": "code",
   "execution_count": 3,
   "id": "247e7398",
   "metadata": {},
   "outputs": [
    {
     "data": {
      "text/plain": [
       "Index(['Index', 'Name', 'Overall_Rating', 'Cuisine', 'Rate for two', 'City',\n",
       "       'Review'],\n",
       "      dtype='object')"
      ]
     },
     "execution_count": 3,
     "metadata": {},
     "output_type": "execute_result"
    }
   ],
   "source": [
    "df.columns"
   ]
  },
  {
   "cell_type": "code",
   "execution_count": 4,
   "id": "b9d36f96",
   "metadata": {},
   "outputs": [
    {
     "data": {
      "text/plain": [
       "Index             0\n",
       "Name              0\n",
       "Overall_Rating    0\n",
       "Cuisine           0\n",
       "Rate for two      0\n",
       "City              0\n",
       "Review            1\n",
       "dtype: int64"
      ]
     },
     "execution_count": 4,
     "metadata": {},
     "output_type": "execute_result"
    }
   ],
   "source": [
    "df.isnull().sum()"
   ]
  },
  {
   "cell_type": "code",
   "execution_count": 5,
   "id": "7d32ff89",
   "metadata": {},
   "outputs": [],
   "source": [
    "df.Review = df.Review.fillna('')"
   ]
  },
  {
   "cell_type": "code",
   "execution_count": 6,
   "id": "ab69ad4c",
   "metadata": {},
   "outputs": [],
   "source": [
    "df.Cuisine = df.Cuisine.fillna(df.Cuisine.value_counts().index[0])"
   ]
  },
  {
   "cell_type": "code",
   "execution_count": 7,
   "id": "e2701b90",
   "metadata": {},
   "outputs": [
    {
     "data": {
      "text/plain": [
       "Index             0\n",
       "Name              0\n",
       "Overall_Rating    0\n",
       "Cuisine           0\n",
       "Rate for two      0\n",
       "City              0\n",
       "Review            0\n",
       "dtype: int64"
      ]
     },
     "execution_count": 7,
     "metadata": {},
     "output_type": "execute_result"
    }
   ],
   "source": [
    "df.isnull().sum()"
   ]
  },
  {
   "cell_type": "code",
   "execution_count": 8,
   "id": "ca574045",
   "metadata": {},
   "outputs": [
    {
     "data": {
      "text/plain": [
       "0      Cafe, Coffee, Shake, Juices, Beverages, Waffle...\n",
       "1      Cafe, Coffee, Shake, Juices, Beverages, Waffle...\n",
       "2                       Cafe, Shake, Beverages, Desserts\n",
       "3                                                   Cafe\n",
       "4                                                   Cafe\n",
       "                             ...                        \n",
       "770    Cafe, Salad, Healthy Food, Fast Food, North In...\n",
       "771    Cafe, Salad, Healthy Food, Fast Food, North In...\n",
       "772    Cafe, Salad, Healthy Food, Fast Food, North In...\n",
       "773    Cafe, Salad, Healthy Food, Fast Food, North In...\n",
       "774    Cafe, Salad, Healthy Food, Fast Food, North In...\n",
       "Name: Cuisine, Length: 775, dtype: object"
      ]
     },
     "execution_count": 8,
     "metadata": {},
     "output_type": "execute_result"
    }
   ],
   "source": [
    "df.Cuisine"
   ]
  },
  {
   "cell_type": "code",
   "execution_count": 9,
   "id": "793f7020",
   "metadata": {},
   "outputs": [],
   "source": [
    "types = [] \n",
    "for i in range(len(df)):\n",
    "    if type(df.Cuisine[i]) == str:\n",
    "        types.append(df.Cuisine[i].split(\",\")) \n",
    "flat_list = list(itertools.chain(*types))\n",
    "series = pd.Series(flat_list)"
   ]
  },
  {
   "cell_type": "code",
   "execution_count": 10,
   "id": "36521b65",
   "metadata": {},
   "outputs": [
    {
     "data": {
      "image/png": "[encoded data removed]",
      "text/plain": [
       "<Figure size 720x720 with 1 Axes>"
      ]
     },
     "metadata": {},
     "output_type": "display_data"
    }
   ],
   "source": [
    "ax = pd.Series(series).value_counts()[:10].plot(kind='pie', shadow=True,  cmap=plt.get_cmap('Spectral'), figsize=(10,10))\n",
    "ax.set_ylabel('Cuisine Types')\n",
    "plot = ax.set_title(\"10 Most Popular Types of Cuisines Served\")"
   ]
  },
  {
   "cell_type": "code",
   "execution_count": 11,
   "id": "acb590f2",
   "metadata": {},
   "outputs": [
    {
     "data": {
      "text/html": [
       "<div>\n",
       "<style scoped>\n",
       "    .dataframe tbody tr th:only-of-type {\n",
       "        vertical-align: middle;\n",
       "    }\n",
       "\n",
       "    .dataframe tbody tr th {\n",
       "        vertical-align: top;\n",
       "    }\n",
       "\n",
       "    .dataframe thead th {\n",
       "        text-align: right;\n",
       "    }\n",
       "</style>\n",
       "<table border=\"1\" class=\"dataframe\">\n",
       "  <thead>\n",
       "    <tr style=\"text-align: right;\">\n",
       "      <th></th>\n",
       "      <th>No of Restuarants Serving</th>\n",
       "    </tr>\n",
       "  </thead>\n",
       "  <tbody>\n",
       "    <tr>\n",
       "      <th>Cafe</th>\n",
       "      <td>723</td>\n",
       "    </tr>\n",
       "    <tr>\n",
       "      <th>Beverages</th>\n",
       "      <td>628</td>\n",
       "    </tr>\n",
       "    <tr>\n",
       "      <th>Fast Food</th>\n",
       "      <td>547</td>\n",
       "    </tr>\n",
       "    <tr>\n",
       "      <th>Desserts</th>\n",
       "      <td>366</td>\n",
       "    </tr>\n",
       "    <tr>\n",
       "      <th>Coffee</th>\n",
       "      <td>298</td>\n",
       "    </tr>\n",
       "    <tr>\n",
       "      <th>Shake</th>\n",
       "      <td>221</td>\n",
       "    </tr>\n",
       "    <tr>\n",
       "      <th>Pizza</th>\n",
       "      <td>220</td>\n",
       "    </tr>\n",
       "    <tr>\n",
       "      <th>Sandwich</th>\n",
       "      <td>209</td>\n",
       "    </tr>\n",
       "    <tr>\n",
       "      <th>Italian</th>\n",
       "      <td>203</td>\n",
       "    </tr>\n",
       "    <tr>\n",
       "      <th>Chinese</th>\n",
       "      <td>200</td>\n",
       "    </tr>\n",
       "  </tbody>\n",
       "</table>\n",
       "</div>"
      ],
      "text/plain": [
       "            No of Restuarants Serving\n",
       "Cafe                              723\n",
       " Beverages                        628\n",
       " Fast Food                        547\n",
       " Desserts                         366\n",
       " Coffee                           298\n",
       " Shake                            221\n",
       " Pizza                            220\n",
       " Sandwich                         209\n",
       " Italian                          203\n",
       " Chinese                          200"
      ]
     },
     "execution_count": 11,
     "metadata": {},
     "output_type": "execute_result"
    }
   ],
   "source": [
    "pd.DataFrame({'No of Restuarants Serving':series.value_counts()}).head(10)"
   ]
  }
 ],
 "metadata": {
  "kernelspec": {
   "display_name": "Python 3 (ipykernel)",
   "language": "python",
   "name": "python3"
  },
  "language_info": {
   "codemirror_mode": {
    "name": "ipython",
    "version": 3
   },
   "file_extension": ".py",
   "mimetype": "text/x-python",
   "name": "python",
   "nbconvert_exporter": "python",
   "pygments_lexer": "ipython3",
   "version": "3.9.12"
  }
 },
 "nbformat": 4,
 "nbformat_minor": 5
}
